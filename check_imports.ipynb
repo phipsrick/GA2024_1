{
 "cells": [
  {
   "cell_type": "markdown",
   "metadata": {},
   "source": [
    "Accessing data from the database. "
   ]
  },
  {
   "cell_type": "code",
   "execution_count": 17,
   "metadata": {},
   "outputs": [],
   "source": [
    "from home_messages_db import HomeMessagesDB\n",
    "\n",
    "db = HomeMessagesDB('sqlite:///myhome.db')\n",
    "\n",
    "df_st = db.get_smartthings()\n",
    "df_p1e = db.get_p1e()\n",
    "df_p1g = db.get_p1g()\n",
    "df_weather = db.get_weather_data()"
   ]
  },
  {
   "cell_type": "code",
   "execution_count": 18,
   "metadata": {},
   "outputs": [
    {
     "name": "stdout",
     "output_type": "stream",
     "text": [
      "              id       loc   level                     name       epoch  \\\n",
      "872147    872148  bathroom     1st      Bathroom (bathtube)  1705686546   \n",
      "182419    182420  bathroom     1st  Bathroom (sensor shelf)  1679194209   \n",
      "963043    963044   kitchen  ground            Kitchen (cam)  1708376097   \n",
      "1078863  1078864     floor     1st  Blue room (move aeotec)  1711531385   \n",
      "511008    511009    ground  ground       Living Room (move)  1693319294   \n",
      "\n",
      "                     capability    attribute     value unit  \n",
      "872147                   switch       switch       off       \n",
      "182419   temperatureMeasurement  temperature      20.6   °C  \n",
      "963043             motionSensor       motion  inactive       \n",
      "1078863            motionSensor       motion    active       \n",
      "511008             motionSensor       motion  inactive       \n",
      "          id                 time  electricity_imported_t1  \\\n",
      "27575  27576  2022-10-15 08:45:00                 7659.699   \n",
      "11361  11362  2022-04-29 11:15:00                 6788.585   \n",
      "71617  71618  2024-01-17 05:15:00                10416.831   \n",
      "23000  23001  2022-08-28 17:00:00                 7400.529   \n",
      "73755  73756  2024-02-09 11:45:00                10546.073   \n",
      "\n",
      "       electricity_imported_t2  electricity_exported_t1  \\\n",
      "27575                 6108.393                      0.0   \n",
      "11361                 5496.137                      0.0   \n",
      "71617                 8144.820                      0.0   \n",
      "23000                 5914.745                      0.0   \n",
      "73755                 8265.428                      0.0   \n",
      "\n",
      "       electricity_exported_t2  \n",
      "27575                      0.0  \n",
      "11361                      0.0  \n",
      "71617                      0.0  \n",
      "23000                      0.0  \n",
      "73755                      0.0  \n",
      "          id                 time  total_gas_used\n",
      "39440  39441  2023-02-15 23:00:00        4377.805\n",
      "49550  49551  2023-10-17 08:30:00        4905.711\n",
      "40034  40035  2023-02-22 03:30:00        4413.151\n",
      "928      929  2022-01-10 17:00:00             NaN\n",
      "59709  59710  2023-06-02 05:15:00        4789.253\n",
      "          id        time  temperature_2m  relativehumidity_2m  rain  snowfall  \\\n",
      "5972    5973  1662494400            19.4                 87.0   0.8       0.0   \n",
      "12003  12004  1684206000             7.9                 84.0   0.0       0.0   \n",
      "10645  10646  1679317200             8.7                 92.0   0.9       0.0   \n",
      "10907  10908  1680260400            10.8                 83.0   0.5       0.0   \n",
      "1009    1010  1644627600             0.1                 92.0   0.0       0.0   \n",
      "\n",
      "       windspeed_10m  winddirection_10m  soil_temperature_0_to_7cm  \n",
      "5972            13.2              244.0                       20.7  \n",
      "12003           16.7              335.0                        9.1  \n",
      "10645           23.5              220.0                        8.3  \n",
      "10907           29.5              200.0                       10.6  \n",
      "1009            12.2              180.0                        1.7  \n"
     ]
    }
   ],
   "source": [
    "random_st = df_st.sample(5)\n",
    "random_p1e = df_p1e.sample(5)\n",
    "random_p1g = df_p1g.sample(5)\n",
    "random_weather = df_weather.sample(5)\n",
    "\n",
    "print(random_st)\n",
    "print(random_p1e)\n",
    "print(random_p1g)\n",
    "print(random_weather)"
   ]
  }
 ],
 "metadata": {
  "kernelspec": {
   "display_name": "base",
   "language": "python",
   "name": "python3"
  },
  "language_info": {
   "codemirror_mode": {
    "name": "ipython",
    "version": 3
   },
   "file_extension": ".py",
   "mimetype": "text/x-python",
   "name": "python",
   "nbconvert_exporter": "python",
   "pygments_lexer": "ipython3",
   "version": "3.9.13"
  }
 },
 "nbformat": 4,
 "nbformat_minor": 2
}
