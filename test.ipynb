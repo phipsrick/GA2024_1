{
 "cells": [
  {
   "cell_type": "markdown",
   "metadata": {},
   "source": [
    "Accessing data from the database. "
   ]
  },
  {
   "cell_type": "code",
   "execution_count": 3,
   "metadata": {},
   "outputs": [
    {
     "name": "stdout",
     "output_type": "stream",
     "text": [
      "        id       loc   level                   name       epoch  \\\n",
      "5314  5315  bathroom     1st  Bathroom (sensor eye)  1666441488   \n",
      "1878  1879    ground  ground       Kitchen (stairs)  1665980202   \n",
      "5503  5504    ground  ground       Kitchen (button)  1666454201   \n",
      "1969  1970  bathroom     1st  Bathroom (sensor eye)  1665993757   \n",
      "3615  3616    ground  ground   Living room (button)  1666234811   \n",
      "\n",
      "                  capability    attribute     value unit  \n",
      "5314            motionSensor       motion    active       \n",
      "1878            motionSensor       motion  inactive       \n",
      "5503  temperatureMeasurement  temperature      21.1   °C  \n",
      "1969            motionSensor       motion    active       \n",
      "3615  temperatureMeasurement  temperature      19.2   °C  \n",
      "          id                 time  electricity_imported_t1  \\\n",
      "65149  65150  2023-07-28 21:15:00                 9348.070   \n",
      "40465  40466  2023-02-26 15:15:00                 8469.098   \n",
      "40986  40987  2023-03-04 01:30:00                 8493.615   \n",
      "49564  49565  2023-10-17 12:00:00                 9780.146   \n",
      "19050  19051  2022-07-18 13:30:00                 7221.158   \n",
      "\n",
      "       electricity_imported_t2  electricity_exported_t1  \\\n",
      "65149                 7350.931                      0.0   \n",
      "40465                 6712.486                      0.0   \n",
      "40986                 6753.399                      0.0   \n",
      "49564                 7688.819                      0.0   \n",
      "19050                 5790.026                      0.0   \n",
      "\n",
      "       electricity_exported_t2  \n",
      "65149                      0.0  \n",
      "40465                      0.0  \n",
      "40986                      0.0  \n",
      "49564                      0.0  \n",
      "19050                      0.0  \n"
     ]
    }
   ],
   "source": [
    "from home_messages_db import HomeMessagesDB\n",
    "\n",
    "db = HomeMessagesDB('sqlite:///myhome.db')\n",
    "\n",
    "df_st = db.get_smartthings()\n",
    "df_p1e = db.get_p1e()\n",
    "\n",
    "random_st = df_st.sample(5)\n",
    "random_p1e = df_p1e.sample(5)\n",
    "\n",
    "print(random_st)\n",
    "print(random_p1e)\n",
    "\n",
    "\n"
   ]
  }
 ],
 "metadata": {
  "kernelspec": {
   "display_name": "base",
   "language": "python",
   "name": "python3"
  },
  "language_info": {
   "codemirror_mode": {
    "name": "ipython",
    "version": 3
   },
   "file_extension": ".py",
   "mimetype": "text/x-python",
   "name": "python",
   "nbconvert_exporter": "python",
   "pygments_lexer": "ipython3",
   "version": "3.9.13"
  }
 },
 "nbformat": 4,
 "nbformat_minor": 2
}
