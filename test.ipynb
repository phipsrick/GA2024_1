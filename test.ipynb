{
 "cells": [
  {
   "cell_type": "markdown",
   "metadata": {},
   "source": [
    "Accessing data from the database. "
   ]
  },
  {
   "cell_type": "code",
   "execution_count": 4,
   "metadata": {},
   "outputs": [
    {
     "name": "stdout",
     "output_type": "stream",
     "text": [
      "        id       loc   level                   name       epoch    capability  \\\n",
      "3688  3689  bathroom     1st  Bathroom (sensor eye)  1666251411  motionSensor   \n",
      "2571  2572    ground  ground       Kitchen (stairs)  1666088036  motionSensor   \n",
      "6145  6146    ground  ground     Living Room (move)  1666523056  motionSensor   \n",
      "1739  1740    living  ground     Living Room (sofa)  1665947698        switch   \n",
      "788    789  bathroom     1st     Bathroom (shelves)  1665781420        switch   \n",
      "\n",
      "     attribute     value unit  \n",
      "3688    motion  inactive       \n",
      "2571    motion    active       \n",
      "6145    motion  inactive       \n",
      "1739    switch       off       \n",
      "788     switch       off       \n",
      "          id                 time  electricity_imported_t1  \\\n",
      "62032  62033  2023-06-26 10:00:00                 9233.322   \n",
      "57626  57627  2024-01-09 11:30:00                10362.792   \n",
      "17594  17595  2022-07-03 09:30:00                 7181.515   \n",
      "28528  28529  2022-10-25 07:00:00                 7734.706   \n",
      "10807  10808  2022-04-23 16:45:00                 6753.608   \n",
      "\n",
      "       electricity_imported_t2  electricity_exported_t1  \\\n",
      "62032                 7245.934                      0.0   \n",
      "57626                 8101.841                      0.0   \n",
      "17594                 5762.988                      0.0   \n",
      "28528                 6149.699                      0.0   \n",
      "10807                 5473.292                      0.0   \n",
      "\n",
      "       electricity_exported_t2  \n",
      "62032                      0.0  \n",
      "57626                      0.0  \n",
      "17594                      0.0  \n",
      "28528                      0.0  \n",
      "10807                      0.0  \n",
      "          id                 time  total_gas_used\n",
      "13056  13057  2022-04-10 03:00:00        3509.020\n",
      "52318  52319  2023-06-30 04:30:00        4810.772\n",
      "34004  34005  2022-12-21 08:00:00        4010.192\n",
      "23903  23904  2022-08-01 02:45:00        3605.279\n",
      "32171  32172  2022-12-02 05:45:00        3847.072\n"
     ]
    }
   ],
   "source": [
    "from home_messages_db import HomeMessagesDB\n",
    "\n",
    "db = HomeMessagesDB('sqlite:///myhome.db')\n",
    "\n",
    "df_st = db.get_smartthings()\n",
    "df_p1e = db.get_p1e()\n",
    "df_p1g = db.get_p1g()\n",
    "\n",
    "random_st = df_st.sample(5)\n",
    "random_p1e = df_p1e.sample(5)\n",
    "random_p1g = df_p1g.sample(5)\n",
    "\n",
    "print(random_st)\n",
    "print(random_p1e)\n",
    "print(random_p1g)\n",
    "\n",
    "\n"
   ]
  }
 ],
 "metadata": {
  "kernelspec": {
   "display_name": "base",
   "language": "python",
   "name": "python3"
  },
  "language_info": {
   "codemirror_mode": {
    "name": "ipython",
    "version": 3
   },
   "file_extension": ".py",
   "mimetype": "text/x-python",
   "name": "python",
   "nbconvert_exporter": "python",
   "pygments_lexer": "ipython3",
   "version": "3.9.13"
  }
 },
 "nbformat": 4,
 "nbformat_minor": 2
}
