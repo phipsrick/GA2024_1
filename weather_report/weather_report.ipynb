{
 "cells": [
  {
   "cell_type": "markdown",
   "metadata": {},
   "source": [
    "# Report on weather data"
   ]
  },
  {
   "cell_type": "code",
   "execution_count": 2,
   "metadata": {},
   "outputs": [],
   "source": [
    "import sys\n",
    "import os\n",
    "\n",
    "# git directories\n",
    "\n",
    "# Josh\n",
    "gitdir = \"/Users/joshd/Documents/GitHub/GA2024_1/\"\n",
    "\n",
    "#Magda\n",
    "#gitdir =\n",
    "\n",
    "# Add the directory\n",
    "module_path = os.path.abspath(gitdir)\n",
    "sys.path.append(module_path)\n",
    "\n",
    "from home_messages_db import HomeMessagesDB\n",
    "\n",
    "db = HomeMessagesDB('sqlite:///myhome.db')\n",
    "\n",
    "df_st = db.get_smartthings()\n",
    "df_p1e = db.get_p1e()\n",
    "df_p1g = db.get_p1g()\n",
    "df_weather = db.get_weather_data()\n",
    "\n",
    "\n"
   ]
  }
 ],
 "metadata": {
  "kernelspec": {
   "display_name": "Python 3",
   "language": "python",
   "name": "python3"
  },
  "language_info": {
   "codemirror_mode": {
    "name": "ipython",
    "version": 3
   },
   "file_extension": ".py",
   "mimetype": "text/x-python",
   "name": "python",
   "nbconvert_exporter": "python",
   "pygments_lexer": "ipython3",
   "version": "3.10.11"
  }
 },
 "nbformat": 4,
 "nbformat_minor": 2
}
