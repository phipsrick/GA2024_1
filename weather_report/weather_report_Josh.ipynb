{
 "cells": [
  {
   "cell_type": "markdown",
   "metadata": {},
   "source": [
    "# Report on weather data"
   ]
  },
  {
   "cell_type": "code",
   "execution_count": null,
   "metadata": {},
   "outputs": [],
   "source": [
    "import sys\n",
    "import os\n",
    "import pandas as pd"
   ]
  },
  {
   "cell_type": "code",
   "execution_count": 13,
   "metadata": {},
   "outputs": [],
   "source": [
    "# git directories\n",
    "\n",
    "# Josh\n",
    "gitdir = \"/Users/joshd/Documents/GitHub/GA2024_1/\"\n",
    "\n",
    "#Magda\n",
    "#gitdir =\n",
    "\n",
    "# Add the directory\n",
    "module_path = os.path.abspath(gitdir)\n",
    "sys.path.append(module_path)\n",
    "\n",
    "from home_messages_db import HomeMessagesDB\n",
    "\n",
    "db = HomeMessagesDB('sqlite:///myhome.db')\n",
    "\n",
    "df_st = db.get_smartthings()\n",
    "df_p1e = db.get_p1e()\n",
    "df_p1g = db.get_p1g()\n",
    "df_weather = db.get_weather_data()\n",
    "\n",
    "\n"
   ]
  },
  {
   "cell_type": "code",
   "execution_count": 9,
   "metadata": {},
   "outputs": [
    {
     "name": "stdout",
     "output_type": "stream",
     "text": [
      "(80716, 3)\n",
      "(1182210, 9)\n",
      "(20424, 9)\n"
     ]
    }
   ],
   "source": [
    "# get overview\n",
    "\n",
    "# gas data\n",
    "print(df_p1g.shape)\n",
    "\n",
    "# energy usage (smartthings)\n",
    "print(df_st.shape)\n",
    "\n",
    "# weather\n",
    "print(df_weather.shape)"
   ]
  },
  {
   "cell_type": "code",
   "execution_count": 19,
   "metadata": {},
   "outputs": [],
   "source": [
    "df_ins_temp = df_st[df_st[\"capability\"] == \"temperatureMeasurement\"]"
   ]
  },
  {
   "cell_type": "code",
   "execution_count": 25,
   "metadata": {},
   "outputs": [
    {
     "name": "stderr",
     "output_type": "stream",
     "text": [
      "/var/folders/z1/762t94_j4tx1bhtk_g1t9qh80000gn/T/ipykernel_21265/2229040446.py:2: SettingWithCopyWarning: \n",
      "A value is trying to be set on a copy of a slice from a DataFrame.\n",
      "Try using .loc[row_indexer,col_indexer] = value instead\n",
      "\n",
      "See the caveats in the documentation: https://pandas.pydata.org/pandas-docs/stable/user_guide/indexing.html#returning-a-view-versus-a-copy\n",
      "  df_ins_temp['value'] = df_ins_temp['value'].astype(float)\n",
      "/var/folders/z1/762t94_j4tx1bhtk_g1t9qh80000gn/T/ipykernel_21265/2229040446.py:5: SettingWithCopyWarning: \n",
      "A value is trying to be set on a copy of a slice from a DataFrame\n",
      "\n",
      "See the caveats in the documentation: https://pandas.pydata.org/pandas-docs/stable/user_guide/indexing.html#returning-a-view-versus-a-copy\n",
      "  df_ins_temp.rename(columns={'value': 'temperature'}, inplace=True)\n"
     ]
    }
   ],
   "source": [
    "# data types\n",
    "df_ins_temp['value'] = df_ins_temp['value'].astype(float)\n",
    "\n",
    "# rename temperature\n",
    "df_ins_temp.rename(columns={'value': 'temperature'}, inplace=True)"
   ]
  },
  {
   "cell_type": "code",
   "execution_count": 27,
   "metadata": {},
   "outputs": [
    {
     "name": "stderr",
     "output_type": "stream",
     "text": [
      "/var/folders/z1/762t94_j4tx1bhtk_g1t9qh80000gn/T/ipykernel_21265/3282028656.py:2: SettingWithCopyWarning: \n",
      "A value is trying to be set on a copy of a slice from a DataFrame.\n",
      "Try using .loc[row_indexer,col_indexer] = value instead\n",
      "\n",
      "See the caveats in the documentation: https://pandas.pydata.org/pandas-docs/stable/user_guide/indexing.html#returning-a-view-versus-a-copy\n",
      "  df_ins_temp['datetime'] = pd.to_datetime(df_ins_temp['epoch'], unit='s')\n"
     ]
    }
   ],
   "source": [
    "# Convert epoch_seconds to datetime\n",
    "df_ins_temp['datetime'] = pd.to_datetime(df_ins_temp['epoch'], unit='s')\n",
    "\n",
    "# Select only the target column (temperature) and the epoch time\n",
    "df_target = df_ins_temp[['datetime', 'temperature']]\n",
    "\n",
    "# Set datetime as index\n",
    "df_target.set_index('datetime', inplace=True)\n",
    "\n",
    "# Resample by day and calculate the average temperature\n",
    "daily_avg_df = df_target.resample('D').mean()\n",
    "\n",
    "# Reset index to make 'datetime' a column again\n",
    "daily_avg_df.reset_index(inplace=True)"
   ]
  }
 ],
 "metadata": {
  "kernelspec": {
   "display_name": "Python 3",
   "language": "python",
   "name": "python3"
  },
  "language_info": {
   "codemirror_mode": {
    "name": "ipython",
    "version": 3
   },
   "file_extension": ".py",
   "mimetype": "text/x-python",
   "name": "python",
   "nbconvert_exporter": "python",
   "pygments_lexer": "ipython3",
   "version": "3.10.11"
  }
 },
 "nbformat": 4,
 "nbformat_minor": 2
}
