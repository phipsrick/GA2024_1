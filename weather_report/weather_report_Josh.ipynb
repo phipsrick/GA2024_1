{
 "cells": [
  {
   "cell_type": "markdown",
   "metadata": {},
   "source": [
    "# Report on weather data"
   ]
  },
  {
   "cell_type": "code",
   "execution_count": null,
   "metadata": {},
   "outputs": [],
   "source": [
    "import sys\n",
    "import os\n",
    "import pandas as pd"
   ]
  },
  {
   "cell_type": "code",
   "execution_count": 13,
   "metadata": {},
   "outputs": [],
   "source": [
    "# git directories\n",
    "\n",
    "# Josh\n",
    "gitdir = \"/Users/joshd/Documents/GitHub/GA2024_1/\"\n",
    "\n",
    "#Magda\n",
    "#gitdir =\n",
    "\n",
    "# Add the directory\n",
    "module_path = os.path.abspath(gitdir)\n",
    "sys.path.append(module_path)\n",
    "\n",
    "from home_messages_db import HomeMessagesDB\n",
    "\n",
    "db = HomeMessagesDB('sqlite:///myhome.db')\n",
    "\n",
    "df_st = db.get_smartthings()\n",
    "df_p1e = db.get_p1e()\n",
    "df_p1g = db.get_p1g()\n",
    "df_weather = db.get_weather_data()\n",
    "\n",
    "\n"
   ]
  },
  {
   "cell_type": "code",
   "execution_count": 9,
   "metadata": {},
   "outputs": [
    {
     "name": "stdout",
     "output_type": "stream",
     "text": [
      "(80716, 3)\n",
      "(1182210, 9)\n",
      "(20424, 9)\n"
     ]
    }
   ],
   "source": [
    "# get overview\n",
    "\n",
    "# gas data\n",
    "print(df_p1g.shape)\n",
    "\n",
    "# energy usage (smartthings)\n",
    "print(df_st.shape)\n",
    "\n",
    "# weather\n",
    "print(df_weather.shape)"
   ]
  },
  {
   "cell_type": "code",
   "execution_count": 32,
   "metadata": {},
   "outputs": [],
   "source": [
    "df_ins_temp = df_st[df_st[\"capability\"] == \"temperatureMeasurement\"]"
   ]
  },
  {
   "cell_type": "code",
   "execution_count": 33,
   "metadata": {},
   "outputs": [
    {
     "name": "stderr",
     "output_type": "stream",
     "text": [
      "/var/folders/z1/762t94_j4tx1bhtk_g1t9qh80000gn/T/ipykernel_21265/2229040446.py:2: SettingWithCopyWarning: \n",
      "A value is trying to be set on a copy of a slice from a DataFrame.\n",
      "Try using .loc[row_indexer,col_indexer] = value instead\n",
      "\n",
      "See the caveats in the documentation: https://pandas.pydata.org/pandas-docs/stable/user_guide/indexing.html#returning-a-view-versus-a-copy\n",
      "  df_ins_temp['value'] = df_ins_temp['value'].astype(float)\n",
      "/var/folders/z1/762t94_j4tx1bhtk_g1t9qh80000gn/T/ipykernel_21265/2229040446.py:5: SettingWithCopyWarning: \n",
      "A value is trying to be set on a copy of a slice from a DataFrame\n",
      "\n",
      "See the caveats in the documentation: https://pandas.pydata.org/pandas-docs/stable/user_guide/indexing.html#returning-a-view-versus-a-copy\n",
      "  df_ins_temp.rename(columns={'value': 'temperature'}, inplace=True)\n"
     ]
    }
   ],
   "source": [
    "# data types\n",
    "df_ins_temp['value'] = df_ins_temp['value'].astype(float)\n",
    "\n",
    "# rename temperature\n",
    "df_ins_temp.rename(columns={'value': 'temperature'}, inplace=True)"
   ]
  },
  {
   "cell_type": "markdown",
   "metadata": {},
   "source": [
    "## Get daily inside temperature average for smartthings"
   ]
  },
  {
   "cell_type": "code",
   "execution_count": 34,
   "metadata": {},
   "outputs": [
    {
     "name": "stderr",
     "output_type": "stream",
     "text": [
      "/var/folders/z1/762t94_j4tx1bhtk_g1t9qh80000gn/T/ipykernel_21265/3757912852.py:2: SettingWithCopyWarning: \n",
      "A value is trying to be set on a copy of a slice from a DataFrame.\n",
      "Try using .loc[row_indexer,col_indexer] = value instead\n",
      "\n",
      "See the caveats in the documentation: https://pandas.pydata.org/pandas-docs/stable/user_guide/indexing.html#returning-a-view-versus-a-copy\n",
      "  df_ins_temp['datetime'] = pd.to_datetime(df_ins_temp['epoch'], unit='s')\n"
     ]
    }
   ],
   "source": [
    "# Convert epoch_seconds to datetime\n",
    "df_ins_temp['datetime'] = pd.to_datetime(df_ins_temp['epoch'], unit='s')\n",
    "\n",
    "# Select only the target column (temperature) and the epoch time\n",
    "df_target = df_ins_temp[['datetime', 'temperature']]\n",
    "\n",
    "# Set datetime as index\n",
    "df_target.set_index('datetime', inplace=True)\n",
    "\n",
    "# Resample by day and calculate the average temperature\n",
    "df_daily_inside = df_target.resample('D').mean()\n",
    "\n",
    "# Reset index to make 'datetime' a column again\n",
    "df_daily_inside.reset_index(inplace=True)"
   ]
  },
  {
   "cell_type": "markdown",
   "metadata": {},
   "source": [
    "# Get daily outside temperature for weather data"
   ]
  },
  {
   "cell_type": "code",
   "execution_count": 35,
   "metadata": {},
   "outputs": [],
   "source": [
    "# data types\n",
    "df_weather['temperature_2m'] = df_weather['temperature_2m'].astype(float)\n",
    "\n",
    "df_out_temp = df_weather.copy()\n",
    "\n",
    "# rename temperature\n",
    "df_out_temp.rename(columns={'temperature_2m': 'temperature'}, inplace=True)\n",
    "\n",
    "\n",
    "# Convert epoch_seconds to datetime\n",
    "df_out_temp['datetime'] = pd.to_datetime(df_out_temp['time'], unit='s')\n",
    "\n",
    "# Select only the target column (temperature) and the epoch time\n",
    "df_target = df_out_temp[['datetime', 'temperature']]\n",
    "\n",
    "# Set datetime as index\n",
    "df_target.set_index('datetime', inplace=True)\n",
    "\n",
    "# Resample by day and calculate the average temperature\n",
    "df_daily_outside = df_target.resample('D').mean()\n",
    "\n",
    "# Reset index to make 'datetime' a column again\n",
    "df_daily_outside.reset_index(inplace=True)\n"
   ]
  },
  {
   "cell_type": "markdown",
   "metadata": {},
   "source": [
    "## Get daily average for gas usage"
   ]
  },
  {
   "cell_type": "markdown",
   "metadata": {},
   "source": [
    "### Drop nans !"
   ]
  },
  {
   "cell_type": "code",
   "execution_count": 39,
   "metadata": {},
   "outputs": [
    {
     "name": "stdout",
     "output_type": "stream",
     "text": [
      "\n",
      "Rows that were dropped:\n",
      "          id                 time  total_gas_used\n",
      "0          1  2022-01-01 01:00:00             NaN\n",
      "1          2  2022-01-01 01:15:00             NaN\n",
      "2          3  2022-01-01 01:30:00             NaN\n",
      "3          4  2022-01-01 01:45:00             NaN\n",
      "4          5  2022-01-01 02:00:00             NaN\n",
      "...      ...                  ...             ...\n",
      "80711  80712  2024-04-22 00:45:00             NaN\n",
      "80712  80713  2024-04-22 01:00:00             NaN\n",
      "80713  80714  2024-04-22 01:15:00             NaN\n",
      "80714  80715  2024-04-22 01:30:00             NaN\n",
      "80715  80716  2024-04-22 01:45:00             NaN\n",
      "\n",
      "[8494 rows x 3 columns]\n"
     ]
    }
   ],
   "source": [
    "# data types\n",
    "df_p1g['total_gas_used'] = df_p1g['total_gas_used'].astype(float)\n",
    "\n",
    "df_gas = df_p1g.copy()\n",
    "\n",
    "\n",
    "# drop NaN\n",
    "rows_with_nans = df_gas[df_gas['total_gas_used'].isna()]\n",
    "\n",
    "# Drop rows with NaNs\n",
    "df_gas = df_gas.dropna(subset=['total_gas_used'])\n",
    "\n",
    "\n",
    "# Display observations that were dropped\n",
    "print(\"\\nRows that were dropped:\")\n",
    "print(rows_with_nans)\n",
    "\n",
    "\n",
    "# Convert epoch_seconds to datetime\n",
    "df_gas['datetime'] = pd.to_datetime(df_out_temp['time'], unit='s')\n",
    "\n",
    "# Select only the target column (temperature) and the epoch time\n",
    "df_target = df_gas[['datetime', 'total_gas_used']]\n",
    "\n",
    "# Set datetime as index\n",
    "df_target.set_index('datetime', inplace=True)\n",
    "\n",
    "# Resample by day and calculate the average temperature\n",
    "df_daily_gas = df_target.resample('D').mean()\n",
    "\n",
    "# Reset index to make 'datetime' a column again\n",
    "df_daily_gas.reset_index(inplace=True)\n",
    "\n",
    "# no idea why, but for 02-02-2024 a nan was averaged\n",
    "df_daily_gas = df_daily_gas.dropna(subset=['total_gas_used'])\n"
   ]
  },
  {
   "cell_type": "markdown",
   "metadata": {},
   "source": [
    "# merge data frames to target data frames"
   ]
  },
  {
   "cell_type": "code",
   "execution_count": 42,
   "metadata": {},
   "outputs": [],
   "source": [
    "\n",
    "df_merge = pd.merge(df_daily_inside, df_daily_outside, on='datetime', how='inner')\n",
    "df_final = pd.merge(df_merge, df_daily_gas, on='datetime', how='inner')\n",
    "\n",
    "df_final.rename(columns={'temperature_x': 'temperature_inside'}, inplace=True)\n",
    "df_final.rename(columns={'temperature_y': 'temperature_outside'}, inplace=True)"
   ]
  }
 ],
 "metadata": {
  "kernelspec": {
   "display_name": "Python 3",
   "language": "python",
   "name": "python3"
  },
  "language_info": {
   "codemirror_mode": {
    "name": "ipython",
    "version": 3
   },
   "file_extension": ".py",
   "mimetype": "text/x-python",
   "name": "python",
   "nbconvert_exporter": "python",
   "pygments_lexer": "ipython3",
   "version": "3.10.11"
  }
 },
 "nbformat": 4,
 "nbformat_minor": 2
}
