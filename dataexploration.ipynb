{
 "cells": [
  {
   "cell_type": "markdown",
   "metadata": {},
   "source": [
    "### Explore smartthings"
   ]
  },
  {
   "cell_type": "code",
   "execution_count": 4,
   "metadata": {},
   "outputs": [
    {
     "name": "stdout",
     "output_type": "stream",
     "text": [
      "      loc   level                  name       epoch  \\\n",
      "0  ground  ground      Kitchen (button)  1667258428   \n",
      "1  ground  ground      Kitchen (button)  1667259333   \n",
      "2  ground  ground      Kitchen (button)  1667259937   \n",
      "3  ground  ground      Kitchen (stairs)  1667260821   \n",
      "4  ground  ground  Living room (button)  1667261751   \n",
      "\n",
      "                    capability    attribute value unit  \n",
      "0       temperatureMeasurement  temperature    19   °C  \n",
      "1       temperatureMeasurement  temperature  19.1   °C  \n",
      "2       temperatureMeasurement  temperature    19   °C  \n",
      "3  relativeHumidityMeasurement     humidity    66    %  \n",
      "4       temperatureMeasurement  temperature  18.7   °C  \n"
     ]
    }
   ],
   "source": [
    "import pandas as pd\n",
    "import gzip\n",
    "\n",
    "# Function to read and display the first few rows of the TSV file\n",
    "def read_example_tsv(filepath):\n",
    "    with gzip.open(file_path, 'rt') as file:\n",
    "        data = pd.read_csv(file, sep='\\t')\n",
    "        print(data.head())\n",
    "\n",
    "file_path = 'Data/smartthings/smartthings.202211.tsv.gz'\n",
    "\n",
    "# Display the data\n",
    "read_example_tsv(file_path)"
   ]
  },
  {
   "cell_type": "markdown",
   "metadata": {},
   "source": [
    "### Explore P1e\n",
    "\n",
    "Notes: some files have a lot of missing values"
   ]
  },
  {
   "cell_type": "code",
   "execution_count": 4,
   "metadata": {},
   "outputs": [
    {
     "name": "stdout",
     "output_type": "stream",
     "text": [
      "               time  Electricity imported T1  Electricity imported T2  \\\n",
      "0  2022-12-01 00:00                 7937.977                 6284.179   \n",
      "1  2022-12-01 00:15                 7938.024                 6284.179   \n",
      "2  2022-12-01 00:30                 7938.075                 6284.179   \n",
      "3  2022-12-01 00:45                 7938.178                 6284.179   \n",
      "4  2022-12-01 01:00                 7938.206                 6284.179   \n",
      "\n",
      "   Electricity exported T1  Electricity exported T2  \n",
      "0                      0.0                      0.0  \n",
      "1                      0.0                      0.0  \n",
      "2                      0.0                      0.0  \n",
      "3                      0.0                      0.0  \n",
      "4                      0.0                      0.0  \n"
     ]
    }
   ],
   "source": [
    "import pandas as pd\n",
    "import gzip\n",
    "\n",
    "# Function to read and display the first few rows of the TSV file\n",
    "def head_csv(filepath):\n",
    "    with gzip.open(file_path, 'rt') as file:\n",
    "        data = pd.read_csv(file, sep=',')\n",
    "        print(data.head())\n",
    "\n",
    "file_path = 'Data/P1e/P1e-2022-12-01-2023-01-22.csv.gz'\n",
    "\n",
    "# Display the data\n",
    "head_csv(file_path)"
   ]
  },
  {
   "cell_type": "markdown",
   "metadata": {},
   "source": [
    "### Explore P1g"
   ]
  },
  {
   "cell_type": "code",
   "execution_count": 5,
   "metadata": {},
   "outputs": [
    {
     "name": "stdout",
     "output_type": "stream",
     "text": [
      "               time  Total gas used\n",
      "0  2022-12-01 00:00        3839.584\n",
      "1  2022-12-01 00:15        3839.634\n",
      "2  2022-12-01 00:30        3839.663\n",
      "3  2022-12-01 00:45        3839.685\n",
      "4  2022-12-01 01:00        3839.702\n"
     ]
    }
   ],
   "source": [
    "import pandas as pd\n",
    "import gzip\n",
    "\n",
    "# Function to read and display the first few rows of the TSV file\n",
    "def head_csv(filepath):\n",
    "    with gzip.open(file_path, 'rt') as file:\n",
    "        data = pd.read_csv(file, sep=',')\n",
    "        print(data.head())\n",
    "\n",
    "file_path = 'Data/P1g/P1g-2022-12-01-2023-01-22.csv.gz'\n",
    "\n",
    "# Display the data\n",
    "head_csv(file_path)"
   ]
  }
 ],
 "metadata": {
  "kernelspec": {
   "display_name": "base",
   "language": "python",
   "name": "python3"
  },
  "language_info": {
   "codemirror_mode": {
    "name": "ipython",
    "version": 3
   },
   "file_extension": ".py",
   "mimetype": "text/x-python",
   "name": "python",
   "nbconvert_exporter": "python",
   "pygments_lexer": "ipython3",
   "version": "3.9.13"
  }
 },
 "nbformat": 4,
 "nbformat_minor": 2
}
