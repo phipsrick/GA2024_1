{
 "cells": [
  {
   "cell_type": "markdown",
   "metadata": {},
   "source": [
    "### Explore Data"
   ]
  },
  {
   "cell_type": "code",
   "execution_count": 12,
   "metadata": {},
   "outputs": [
    {
     "name": "stdout",
     "output_type": "stream",
     "text": [
      "P1e: \n",
      "                time  Electricity imported T1  Electricity imported T2  \\\n",
      "0  2022-12-01 00:00                 7937.977                 6284.179   \n",
      "1  2022-12-01 00:15                 7938.024                 6284.179   \n",
      "2  2022-12-01 00:30                 7938.075                 6284.179   \n",
      "3  2022-12-01 00:45                 7938.178                 6284.179   \n",
      "4  2022-12-01 01:00                 7938.206                 6284.179   \n",
      "\n",
      "   Electricity exported T1  Electricity exported T2  \n",
      "0                      0.0                      0.0  \n",
      "1                      0.0                      0.0  \n",
      "2                      0.0                      0.0  \n",
      "3                      0.0                      0.0  \n",
      "4                      0.0                      0.0   \n",
      "\n",
      "P1g: \n",
      "                time  Total gas used\n",
      "0  2022-12-01 00:00        3839.584\n",
      "1  2022-12-01 00:15        3839.634\n",
      "2  2022-12-01 00:30        3839.663\n",
      "3  2022-12-01 00:45        3839.685\n",
      "4  2022-12-01 01:00        3839.702 \n",
      "\n",
      "smartthings: \n",
      "       loc   level                  name       epoch  \\\n",
      "0  ground  ground      Kitchen (button)  1667258428   \n",
      "1  ground  ground      Kitchen (button)  1667259333   \n",
      "2  ground  ground      Kitchen (button)  1667259937   \n",
      "3  ground  ground      Kitchen (stairs)  1667260821   \n",
      "4  ground  ground  Living room (button)  1667261751   \n",
      "\n",
      "                    capability    attribute value unit  \n",
      "0       temperatureMeasurement  temperature    19   °C  \n",
      "1       temperatureMeasurement  temperature  19.1   °C  \n",
      "2       temperatureMeasurement  temperature    19   °C  \n",
      "3  relativeHumidityMeasurement     humidity    66    %  \n",
      "4       temperatureMeasurement  temperature  18.7   °C   \n",
      "\n"
     ]
    }
   ],
   "source": [
    "import pandas as pd\n",
    "import gzip\n",
    "\n",
    "# Reading the P1e data\n",
    "with gzip.open('data/P1e/P1e-2022-12-01-2023-01-22.csv.gz', 'rt') as f:\n",
    "    p1e_data = pd.read_csv(f)\n",
    "print(\"P1e: \\n\", p1e_data.head(), \"\\n\")\n",
    "\n",
    "# Reading the P1g data\n",
    "with gzip.open('data/P1g/P1g-2022-12-01-2023-01-22.csv.gz', 'rt') as f:\n",
    "    p1g_data = pd.read_csv(f)\n",
    "print(\"P1g: \\n\", p1g_data.head(), \"\\n\")\n",
    "\n",
    "# Reading the SmartThings data\n",
    "with gzip.open('data/smartthings/smartthings.202211.tsv.gz', 'rt') as f:\n",
    "    smartthings_data = pd.read_csv(f, delimiter='\\t')\n",
    "print(\"smartthings: \\n\", smartthings_data.head(), \"\\n\")\n"
   ]
  }
 ],
 "metadata": {
  "kernelspec": {
   "display_name": "base",
   "language": "python",
   "name": "python3"
  },
  "language_info": {
   "codemirror_mode": {
    "name": "ipython",
    "version": 3
   },
   "file_extension": ".py",
   "mimetype": "text/x-python",
   "name": "python",
   "nbconvert_exporter": "python",
   "pygments_lexer": "ipython3",
   "version": "3.9.13"
  }
 },
 "nbformat": 4,
 "nbformat_minor": 2
}
